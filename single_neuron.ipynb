# Setup plotting
import matplotlib.pyplot as plt
import pandas as pd
from tensorflow import keras
from tensorflow.keras import layers

#Configure plot
plt.style.use('seaborn-whitegrid')
# Set Matplotlib defaults
plt.rc('figure', autolayout=True)
plt.rc('axes', labelweight='bold', labelsize='large',
       titleweight='bold', titlesize=18, titlepad=10)

# Setup feedback system
from learntools.core import binder
binder.bind(globals())
from learntools.deep_learning_intro.ex1 import *

#Import dataset
red_wine = pd.read_csv('../input/dl-course-data/red-wine.csv')
red_wine.head()

#Define the model
input_shape=[11] 
model= keras.Sequential([
    layers.Dense( units = 1, input_shape=[11])
])

#Retrieve the weights and biases
w, b = model.weights
print("Weights\n{}\n\nBias\n{}".format(w,b))

x = tf.linspace(-1.0, 1.0, 100)
y = model.predict(x)

#Plot
plt.figure(dpi=100)
plt.plot(x, y, 'k')
plt.xlim(-1, 1)
plt.ylim(-1, 1)
plt.xlabel("Input: x")
plt.ylabel("Target y")
w, b = model.weights # you could also use model.get_weights() here
plt.title("Weight: {:0.2f}\nBias: {:0.2f}".format(w[0][0], b[0]))
plt.show()
